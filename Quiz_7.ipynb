{
  "nbformat": 4,
  "nbformat_minor": 0,
  "metadata": {
    "colab": {
      "name": "Quiz 7.ipynb",
      "version": "0.3.2",
      "provenance": [],
      "collapsed_sections": [],
      "include_colab_link": true
    },
    "kernelspec": {
      "name": "python3",
      "display_name": "Python 3"
    },
    "accelerator": "GPU"
  },
  "cells": [
    {
      "cell_type": "markdown",
      "metadata": {
        "id": "view-in-github",
        "colab_type": "text"
      },
      "source": [
        "<a href=\"https://colab.research.google.com/github/gkdivya/EVA_Public/blob/master/Quiz_7.ipynb\" target=\"_parent\"><img src=\"https://colab.research.google.com/assets/colab-badge.svg\" alt=\"Open In Colab\"/></a>"
      ]
    },
    {
      "cell_type": "markdown",
      "metadata": {
        "id": "aNyZv-Ec52ot",
        "colab_type": "text"
      },
      "source": [
        "# **Import Libraries and modules**"
      ]
    },
    {
      "cell_type": "code",
      "metadata": {
        "id": "3m3w1Cw49Zkt",
        "colab_type": "code",
        "colab": {
          "base_uri": "https://localhost:8080/",
          "height": 34
        },
        "outputId": "1ebead80-9c42-4110-d127-a86d09087c5b"
      },
      "source": [
        "# https://keras.io/\n",
        "!pip install -q keras\n",
        "import keras\n",
        "import datetime\n",
        "print(datetime.datetime.now())"
      ],
      "execution_count": 2,
      "outputs": [
        {
          "output_type": "stream",
          "text": [
            "2019-09-04 13:01:43.642570\n"
          ],
          "name": "stdout"
        }
      ]
    },
    {
      "cell_type": "code",
      "metadata": {
        "id": "Eso6UHE080D4",
        "colab_type": "code",
        "colab": {
          "base_uri": "https://localhost:8080/",
          "height": 34
        },
        "outputId": "036f5fd5-6cfa-4602-9b20-fab01842ad67"
      },
      "source": [
        "import numpy as np\n",
        "\n",
        "from keras.models import Sequential, Model\n",
        "from keras.layers import Dense, Dropout, Activation, Flatten, Add, Input\n",
        "from keras.layers import Convolution2D, MaxPooling2D, Conv2D\n",
        "from keras.layers.normalization import BatchNormalization\n",
        "from keras.utils import np_utils\n",
        "\n",
        "from keras.datasets import mnist\n",
        "print(datetime.datetime.now())"
      ],
      "execution_count": 36,
      "outputs": [
        {
          "output_type": "stream",
          "text": [
            "2019-09-04 13:29:08.899544\n"
          ],
          "name": "stdout"
        }
      ]
    },
    {
      "cell_type": "markdown",
      "metadata": {
        "id": "zByEi95J86RD",
        "colab_type": "text"
      },
      "source": [
        "### Load pre-shuffled MNIST data into train and test sets"
      ]
    },
    {
      "cell_type": "code",
      "metadata": {
        "id": "7eRM0QWN83PV",
        "colab_type": "code",
        "colab": {
          "base_uri": "https://localhost:8080/",
          "height": 68
        },
        "outputId": "980d43d7-6147-48b2-ad73-317cbdaa0079"
      },
      "source": [
        "(X_train, y_train), (X_test, y_test) = mnist.load_data()\n",
        "print(datetime.datetime.now())"
      ],
      "execution_count": 4,
      "outputs": [
        {
          "output_type": "stream",
          "text": [
            "Downloading data from https://s3.amazonaws.com/img-datasets/mnist.npz\n",
            "11493376/11490434 [==============================] - 2s 0us/step\n",
            "2019-09-04 13:01:46.298533\n"
          ],
          "name": "stdout"
        }
      ]
    },
    {
      "cell_type": "code",
      "metadata": {
        "id": "4a4Be72j8-ZC",
        "colab_type": "code",
        "colab": {
          "base_uri": "https://localhost:8080/",
          "height": 303
        },
        "outputId": "1eafb2e7-ea69-49b7-baf7-bb56fa298d7e"
      },
      "source": [
        "print (X_train.shape)\n",
        "from matplotlib import pyplot as plt\n",
        "%matplotlib inline\n",
        "plt.imshow(X_train[0])\n",
        "print(datetime.datetime.now())"
      ],
      "execution_count": 5,
      "outputs": [
        {
          "output_type": "stream",
          "text": [
            "(60000, 28, 28)\n",
            "2019-09-04 13:01:46.328553\n"
          ],
          "name": "stdout"
        },
        {
          "output_type": "display_data",
          "data": {
            "image/png": "[encoded data removed]",
            "text/plain": [
              "<Figure size 432x288 with 1 Axes>"
            ]
          },
          "metadata": {
            "tags": []
          }
        }
      ]
    },
    {
      "cell_type": "code",
      "metadata": {
        "id": "dkmprriw9AnZ",
        "colab_type": "code",
        "colab": {
          "base_uri": "https://localhost:8080/",
          "height": 34
        },
        "outputId": "2e7cc294-a176-4206-f501-51fde2cbb7db"
      },
      "source": [
        "X_train = X_train.reshape(X_train.shape[0], 28, 28,1)\n",
        "X_test = X_test.reshape(X_test.shape[0], 28, 28,1)\n",
        "print(datetime.datetime.now())"
      ],
      "execution_count": 6,
      "outputs": [
        {
          "output_type": "stream",
          "text": [
            "2019-09-04 13:01:46.503920\n"
          ],
          "name": "stdout"
        }
      ]
    },
    {
      "cell_type": "code",
      "metadata": {
        "id": "X2m4YS4E9CRh",
        "colab_type": "code",
        "colab": {
          "base_uri": "https://localhost:8080/",
          "height": 34
        },
        "outputId": "54c4fdd9-7a2a-4b7d-e9b0-691da8cf4507"
      },
      "source": [
        "X_train = X_train.astype('float32')\n",
        "X_test = X_test.astype('float32')\n",
        "X_train /= 255\n",
        "X_test /= 255\n",
        "print(datetime.datetime.now())"
      ],
      "execution_count": 7,
      "outputs": [
        {
          "output_type": "stream",
          "text": [
            "2019-09-04 13:01:46.662473\n"
          ],
          "name": "stdout"
        }
      ]
    },
    {
      "cell_type": "code",
      "metadata": {
        "id": "0Mn0vAYD9DvB",
        "colab_type": "code",
        "colab": {
          "base_uri": "https://localhost:8080/",
          "height": 34
        },
        "outputId": "29094efa-7bf8-4fd3-befc-061a72fac430"
      },
      "source": [
        "y_train[:10]\n",
        "print(datetime.datetime.now())"
      ],
      "execution_count": 8,
      "outputs": [
        {
          "output_type": "stream",
          "text": [
            "2019-09-04 13:01:46.669957\n"
          ],
          "name": "stdout"
        }
      ]
    },
    {
      "cell_type": "code",
      "metadata": {
        "id": "ZG8JiXR39FHC",
        "colab_type": "code",
        "colab": {
          "base_uri": "https://localhost:8080/",
          "height": 34
        },
        "outputId": "2ad3dde0-b3cb-457b-8b63-7b1aea0fadc4"
      },
      "source": [
        "# Convert 1-dimensional class arrays to 10-dimensional class matrices\n",
        "Y_train = np_utils.to_categorical(y_train, 10)\n",
        "Y_test = np_utils.to_categorical(y_test, 10)\n",
        "print(datetime.datetime.now())"
      ],
      "execution_count": 9,
      "outputs": [
        {
          "output_type": "stream",
          "text": [
            "2019-09-04 13:01:46.684414\n"
          ],
          "name": "stdout"
        }
      ]
    },
    {
      "cell_type": "code",
      "metadata": {
        "id": "fYlFRvKS9HMB",
        "colab_type": "code",
        "colab": {
          "base_uri": "https://localhost:8080/",
          "height": 34
        },
        "outputId": "61c026bb-b4d2-4297-8b90-b4db79fcb905"
      },
      "source": [
        "Y_train[:10]\n",
        "print(datetime.datetime.now())"
      ],
      "execution_count": 10,
      "outputs": [
        {
          "output_type": "stream",
          "text": [
            "2019-09-04 13:01:46.690067\n"
          ],
          "name": "stdout"
        }
      ]
    },
    {
      "cell_type": "markdown",
      "metadata": {
        "id": "q1mOgYk5epPz",
        "colab_type": "text"
      },
      "source": [
        "Below MAIN block is redesigned as functional API\n",
        "\n",
        "```\n",
        "# Sequential Code\n",
        "\n",
        "from keras.layers import Activation\n",
        "model = Sequential()\n",
        "\n",
        " \n",
        "model.add(Convolution2D(32, 3, 3, activation='relu', input_shape=(28,28,1)))\n",
        "model.add(Convolution2D(10, 1, activation='relu'))\n",
        "model.add(Convolution2D(10, 26))\n",
        "model.add(Flatten())\n",
        "model.add(Activation('softmax'))\n",
        "\n",
        "print(datetime.datetime.now())\n",
        "\n",
        "```\n",
        "\n"
      ]
    },
    {
      "cell_type": "markdown",
      "metadata": {
        "id": "QT616H-yZxVk",
        "colab_type": "text"
      },
      "source": [
        "### Redesign the above block as follows:\n",
        "\n",
        "*   x1 = Input\n",
        "*   x2 = Conv(x1)\n",
        "*   x3 = Conv(x1 + x2)\n",
        "*   x4 = MaxPooling(x1 + x2 + x3)\n",
        "*   x5 = Conv(x4)\n",
        "*   x6 = Conv(x4 + x5)\n",
        "*   x7 = Conv(x4 + x5 + x6)\n",
        "*   x8 = MaxPooling(x5 + x6 + x7)\n",
        "*   x9 = Conv(x8)\n",
        "*   x10 = Conv (x8 + x9)\n",
        "*   x11 = Conv (x8 + x9 + x10)\n",
        "\n",
        "\n",
        "*   BIG KERNEL Operation (use a large kernel size (10 units), if required at this step to be able to add softmax in the next layer)\n",
        "SoftMax"
      ]
    },
    {
      "cell_type": "code",
      "metadata": {
        "id": "Wm9tg3mpXsr4",
        "colab_type": "code",
        "colab": {}
      },
      "source": [
        "## Functional DNN\n",
        "\n",
        "#Redefine the network with dropout and more channels\n",
        "\n",
        "x1 = Input(shape=(28,28,1), name='ImageInput')\n",
        "\n",
        "x2 = Conv2D(32, (3,3), activation='relu', padding='same', name='x2')(x1)\n",
        "x2 = BatchNormalization()(x2)\n",
        "x2 = Dropout(rate=0.1)(x2)\n",
        "\n",
        "x3 = Conv2D(32, (3,3), activation='relu', padding='same', name='x3')(keras.layers.add([x1, x2])) \n",
        "x3 = BatchNormalization()(x3)\n",
        "\n",
        "x4 = MaxPooling2D((2,2), name='x4')(keras.layers.add([x1, x2, x3])) \n",
        "x5 = Conv2D(32, (3,3), activation='relu', padding='same', name='x5')(x4)\n",
        "x5 = BatchNormalization()(x5)\n",
        "\n",
        "x6 = Conv2D(32, (3,3), activation='relu', padding='same', name='x6')(keras.layers.add([x4, x5])) \n",
        "x6 = BatchNormalization()(x6)\n",
        "\n",
        "x7 = Conv2D(32, (3,3), activation='relu', padding='same', name='x7')(keras.layers.add([x4, x5, x6])) \n",
        "x7 = BatchNormalization()(x7)\n",
        "\n",
        "x8 = MaxPooling2D((2,2), name='x8')(keras.layers.add([x5, x6, x7])) \n",
        "x9 = Conv2D(32, (3,3), activation='relu', padding='same', name='x9')(x8)\n",
        "x9 = BatchNormalization()(x9)\n",
        "\n",
        "\n",
        "x10 = Conv2D(32, (3,3), activation='relu', padding='same', name='x10')(keras.layers.add([x8, x9])) \n",
        "x10 = BatchNormalization()(x10)\n",
        "\n",
        "x11 = Conv2D(32, (3,3), activation='relu', padding='same', name='x11')(keras.layers.add([x8, x9, x10])) \n",
        "x11 = BatchNormalization()(x11)\n",
        "\n",
        "x = Convolution2D(10, (7, 7))(x11)\n",
        "flat = Flatten()(x)\n",
        "predictions = Activation('softmax')(flat)\n",
        "model = Model(inputs=x1, outputs=predictions)"
      ],
      "execution_count": 0,
      "outputs": []
    },
    {
      "cell_type": "code",
      "metadata": {
        "id": "NmhWx4vhazy6",
        "colab_type": "code",
        "colab": {
          "base_uri": "https://localhost:8080/",
          "height": 1000
        },
        "outputId": "3820e36e-8b08-4616-9b71-ece291741d70"
      },
      "source": [
        "model.summary()\n",
        "\n",
        "print(datetime.datetime.now())"
      ],
      "execution_count": 44,
      "outputs": [
        {
          "output_type": "stream",
          "text": [
            "Model: \"model_6\"\n",
            "__________________________________________________________________________________________________\n",
            "Layer (type)                    Output Shape         Param #     Connected to                     \n",
            "==================================================================================================\n",
            "ImageInput (InputLayer)         (None, 28, 28, 1)    0                                            \n",
            "__________________________________________________________________________________________________\n",
            "x2 (Conv2D)                     (None, 28, 28, 32)   320         ImageInput[0][0]                 \n",
            "__________________________________________________________________________________________________\n",
            "batch_normalization_9 (BatchNor (None, 28, 28, 32)   128         x2[0][0]                         \n",
            "__________________________________________________________________________________________________\n",
            "dropout_8 (Dropout)             (None, 28, 28, 32)   0           batch_normalization_9[0][0]      \n",
            "__________________________________________________________________________________________________\n",
            "add_57 (Add)                    (None, 28, 28, 32)   0           ImageInput[0][0]                 \n",
            "                                                                 dropout_8[0][0]                  \n",
            "__________________________________________________________________________________________________\n",
            "x3 (Conv2D)                     (None, 28, 28, 32)   9248        add_57[0][0]                     \n",
            "__________________________________________________________________________________________________\n",
            "batch_normalization_10 (BatchNo (None, 28, 28, 32)   128         x3[0][0]                         \n",
            "__________________________________________________________________________________________________\n",
            "add_58 (Add)                    (None, 28, 28, 32)   0           ImageInput[0][0]                 \n",
            "                                                                 dropout_8[0][0]                  \n",
            "                                                                 batch_normalization_10[0][0]     \n",
            "__________________________________________________________________________________________________\n",
            "x4 (MaxPooling2D)               (None, 14, 14, 32)   0           add_58[0][0]                     \n",
            "__________________________________________________________________________________________________\n",
            "x5 (Conv2D)                     (None, 14, 14, 32)   9248        x4[0][0]                         \n",
            "__________________________________________________________________________________________________\n",
            "batch_normalization_11 (BatchNo (None, 14, 14, 32)   128         x5[0][0]                         \n",
            "__________________________________________________________________________________________________\n",
            "add_59 (Add)                    (None, 14, 14, 32)   0           x4[0][0]                         \n",
            "                                                                 batch_normalization_11[0][0]     \n",
            "__________________________________________________________________________________________________\n",
            "x6 (Conv2D)                     (None, 14, 14, 32)   9248        add_59[0][0]                     \n",
            "__________________________________________________________________________________________________\n",
            "batch_normalization_12 (BatchNo (None, 14, 14, 32)   128         x6[0][0]                         \n",
            "__________________________________________________________________________________________________\n",
            "add_60 (Add)                    (None, 14, 14, 32)   0           x4[0][0]                         \n",
            "                                                                 batch_normalization_11[0][0]     \n",
            "                                                                 batch_normalization_12[0][0]     \n",
            "__________________________________________________________________________________________________\n",
            "x7 (Conv2D)                     (None, 14, 14, 32)   9248        add_60[0][0]                     \n",
            "__________________________________________________________________________________________________\n",
            "batch_normalization_13 (BatchNo (None, 14, 14, 32)   128         x7[0][0]                         \n",
            "__________________________________________________________________________________________________\n",
            "add_61 (Add)                    (None, 14, 14, 32)   0           batch_normalization_11[0][0]     \n",
            "                                                                 batch_normalization_12[0][0]     \n",
            "                                                                 batch_normalization_13[0][0]     \n",
            "__________________________________________________________________________________________________\n",
            "x8 (MaxPooling2D)               (None, 7, 7, 32)     0           add_61[0][0]                     \n",
            "__________________________________________________________________________________________________\n",
            "x9 (Conv2D)                     (None, 7, 7, 32)     9248        x8[0][0]                         \n",
            "__________________________________________________________________________________________________\n",
            "batch_normalization_14 (BatchNo (None, 7, 7, 32)     128         x9[0][0]                         \n",
            "__________________________________________________________________________________________________\n",
            "add_62 (Add)                    (None, 7, 7, 32)     0           x8[0][0]                         \n",
            "                                                                 batch_normalization_14[0][0]     \n",
            "__________________________________________________________________________________________________\n",
            "x10 (Conv2D)                    (None, 7, 7, 32)     9248        add_62[0][0]                     \n",
            "__________________________________________________________________________________________________\n",
            "batch_normalization_15 (BatchNo (None, 7, 7, 32)     128         x10[0][0]                        \n",
            "__________________________________________________________________________________________________\n",
            "add_63 (Add)                    (None, 7, 7, 32)     0           x8[0][0]                         \n",
            "                                                                 batch_normalization_14[0][0]     \n",
            "                                                                 batch_normalization_15[0][0]     \n",
            "__________________________________________________________________________________________________\n",
            "x11 (Conv2D)                    (None, 7, 7, 32)     9248        add_63[0][0]                     \n",
            "__________________________________________________________________________________________________\n",
            "batch_normalization_16 (BatchNo (None, 7, 7, 32)     128         x11[0][0]                        \n",
            "__________________________________________________________________________________________________\n",
            "conv2d_12 (Conv2D)              (None, 1, 1, 10)     15690       batch_normalization_16[0][0]     \n",
            "__________________________________________________________________________________________________\n",
            "flatten_9 (Flatten)             (None, 10)           0           conv2d_12[0][0]                  \n",
            "__________________________________________________________________________________________________\n",
            "activation_9 (Activation)       (None, 10)           0           flatten_9[0][0]                  \n",
            "==================================================================================================\n",
            "Total params: 81,770\n",
            "Trainable params: 81,258\n",
            "Non-trainable params: 512\n",
            "__________________________________________________________________________________________________\n",
            "2019-09-04 13:37:13.419039\n"
          ],
          "name": "stdout"
        }
      ]
    },
    {
      "cell_type": "code",
      "metadata": {
        "id": "DDs3o7C_bZxE",
        "colab_type": "code",
        "colab": {
          "base_uri": "https://localhost:8080/",
          "height": 34
        },
        "outputId": "73f709bd-cfda-4bce-abae-42e850697ac9"
      },
      "source": [
        "model.compile(loss='categorical_crossentropy',\n",
        "             optimizer='adam',\n",
        "             metrics=['accuracy'])\n",
        "print(datetime.datetime.now())"
      ],
      "execution_count": 45,
      "outputs": [
        {
          "output_type": "stream",
          "text": [
            "2019-09-04 13:37:13.465317\n"
          ],
          "name": "stdout"
        }
      ]
    },
    {
      "cell_type": "code",
      "metadata": {
        "id": "KdlITbL2cA0a",
        "colab_type": "code",
        "colab": {
          "base_uri": "https://localhost:8080/",
          "height": 408
        },
        "outputId": "f923bd54-8478-446b-bb00-463aadbf1c50"
      },
      "source": [
        "model.fit(X_train, Y_train, batch_size=32, nb_epoch=10, verbose=1)\n",
        "print(datetime.datetime.now())"
      ],
      "execution_count": 46,
      "outputs": [
        {
          "output_type": "stream",
          "text": [
            "/usr/local/lib/python3.6/dist-packages/ipykernel_launcher.py:1: UserWarning: The `nb_epoch` argument in `fit` has been renamed `epochs`.\n",
            "  \"\"\"Entry point for launching an IPython kernel.\n"
          ],
          "name": "stderr"
        },
        {
          "output_type": "stream",
          "text": [
            "Epoch 1/10\n",
            "60000/60000 [==============================] - 25s 419us/step - loss: 0.0973 - acc: 0.9693\n",
            "Epoch 2/10\n",
            "60000/60000 [==============================] - 23s 387us/step - loss: 0.0420 - acc: 0.9870\n",
            "Epoch 3/10\n",
            "60000/60000 [==============================] - 23s 382us/step - loss: 0.0314 - acc: 0.9900\n",
            "Epoch 4/10\n",
            "60000/60000 [==============================] - 23s 382us/step - loss: 0.0240 - acc: 0.9922\n",
            "Epoch 5/10\n",
            "60000/60000 [==============================] - 23s 385us/step - loss: 0.0189 - acc: 0.9939\n",
            "Epoch 6/10\n",
            "60000/60000 [==============================] - 23s 391us/step - loss: 0.0163 - acc: 0.9947\n",
            "Epoch 7/10\n",
            "60000/60000 [==============================] - 23s 382us/step - loss: 0.0136 - acc: 0.9958\n",
            "Epoch 8/10\n",
            "60000/60000 [==============================] - 23s 385us/step - loss: 0.0111 - acc: 0.9965\n",
            "Epoch 9/10\n",
            "60000/60000 [==============================] - 23s 382us/step - loss: 0.0100 - acc: 0.9968\n",
            "Epoch 10/10\n",
            "60000/60000 [==============================] - 23s 379us/step - loss: 0.0082 - acc: 0.9975\n",
            "2019-09-04 13:41:06.999707\n"
          ],
          "name": "stdout"
        }
      ]
    },
    {
      "cell_type": "code",
      "metadata": {
        "id": "LzkEZIxwcHiC",
        "colab_type": "code",
        "colab": {
          "base_uri": "https://localhost:8080/",
          "height": 34
        },
        "outputId": "860d2dfc-bfde-4df1-e49d-1713337a5e78"
      },
      "source": [
        "score = model.evaluate(X_test, Y_test, verbose=0)\n",
        "print(datetime.datetime.now())"
      ],
      "execution_count": 47,
      "outputs": [
        {
          "output_type": "stream",
          "text": [
            "2019-09-04 13:41:08.195473\n"
          ],
          "name": "stdout"
        }
      ]
    },
    {
      "cell_type": "code",
      "metadata": {
        "id": "zA-W8D2vcqun",
        "colab_type": "code",
        "colab": {
          "base_uri": "https://localhost:8080/",
          "height": 51
        },
        "outputId": "77bab190-31ac-4c9a-a9c1-d56950da6115"
      },
      "source": [
        "print(score)\n",
        "print(datetime.datetime.now())"
      ],
      "execution_count": 48,
      "outputs": [
        {
          "output_type": "stream",
          "text": [
            "[0.025728362757801097, 0.9938]\n",
            "2019-09-04 13:41:08.202794\n"
          ],
          "name": "stdout"
        }
      ]
    },
    {
      "cell_type": "code",
      "metadata": {
        "id": "XhIwsS0McwF_",
        "colab_type": "code",
        "colab": {}
      },
      "source": [
        ""
      ],
      "execution_count": 0,
      "outputs": []
    }
  ]
}